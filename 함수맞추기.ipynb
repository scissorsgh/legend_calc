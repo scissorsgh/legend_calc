{
  "nbformat": 4,
  "nbformat_minor": 0,
  "metadata": {
    "colab": {
      "provenance": [],
      "gpuType": "T4",
      "authorship_tag": "ABX9TyOPc33gXtZH418CVo0eFH+x",
      "include_colab_link": true
    },
    "kernelspec": {
      "name": "python3",
      "display_name": "Python 3"
    },
    "language_info": {
      "name": "python"
    },
    "accelerator": "GPU"
  },
  "cells": [
    {
      "cell_type": "markdown",
      "metadata": {
        "id": "view-in-github",
        "colab_type": "text"
      },
      "source": [
        "<a href=\"https://colab.research.google.com/github/scissorsgh/legend_calc/blob/main/%ED%95%A8%EC%88%98%EB%A7%9E%EC%B6%94%EA%B8%B0.ipynb\" target=\"_parent\"><img src=\"https://colab.research.google.com/assets/colab-badge.svg\" alt=\"Open In Colab\"/></a>"
      ]
    },
    {
      "cell_type": "code",
      "source": [
        "import numpy as np\n",
        "\n",
        "def sin_dataset(num_points):\n",
        "    x_min, x_max = -2*np.pi, 2*np.pi # 점 생성 범위 지정\n",
        "    x = np.linspace(x_min, x_max, num_points) # 범위 내에서 num_points 개의 점을 균등한 간격으로 생성\n",
        "    y = np.sin(x) # sin(x)의 값으로 y 생성\n",
        "    return x, y\n",
        "\n",
        "def cos_dataset(num_points):\n",
        "    x_min, x_max = -2*np.pi, 2*np.pi\n",
        "    x = np.linspace(x_min, x_max, num_points)\n",
        "    y = np.cos(x) # cos(x)의 값으로 y 생성\n",
        "    return x, y\n",
        "\n",
        "def tan_dataset(num_points):\n",
        "    x_min, x_max = -1.4, 1.4 # 불연속이라서 안정된 범위를 지정\n",
        "    x = np.linspace(x_min, x_max, num_points)\n",
        "    y = np.clip(np.tan(x), -3, 3) # tan(x)의 값으로 y 생성\n",
        "    return x, y\n",
        "\n",
        "def log_dataset(num_points):\n",
        "    x_min, x_max = 0.1, 5\n",
        "    x = np.linspace(x_min, x_max, num_points)\n",
        "    y = np.log(x) # log x의 값으로 y 생성\n",
        "    return x, y\n",
        "\n",
        "def exp_dataset(num_points):\n",
        "    x_min, x_max = -1.5, 1.5\n",
        "    x = np.linspace(x_min, x_max, num_points)\n",
        "    y = np.exp(x) # a^x의 값으로 y 생성\n",
        "    return x, y\n",
        "\n",
        "def generate_dataset(num_points):\n",
        "    X = []\n",
        "    y = []\n",
        "    func_map = [sin_dataset, cos_dataset, tan_dataset, log_dataset, exp_dataset]\n",
        "\n",
        "    for i in range(5):\n",
        "        func = func_map[i]\n",
        "        for _ in range(num_points): #데이터셋 만들기\n",
        "            x, y_vals = func(100) # 점 100개 생성\n",
        "            noise = np.random.normal(0, 0.1, 100)\n",
        "            y_noisy = y_vals + noise\n",
        "            coords = np.column_stack([x, y_noisy]) # x, y_noisy가 한 쌍의 좌표로 묶여 (x, y) 형식\n",
        "            X.append(coords)\n",
        "            y.append(i) # 넘버링 (y는 3차원 배열이 됨)\n",
        "    return X, y"
      ],
      "metadata": {
        "id": "ZAh7VLAsV6Xm"
      },
      "execution_count": 24,
      "outputs": []
    },
    {
      "cell_type": "code",
      "source": [
        "import torch\n",
        "from torch.utils.data import Dataset, DataLoader\n",
        "\n",
        "class CustomDataset(Dataset):\n",
        "  def __init__ (self, X, y):\n",
        "    self.X = torch.FloatTensor(X) # (x, y)쌍 (실수형)\n",
        "    self.y = torch.LongTensor(y) # 넘버링 숫자 (정수형)\n",
        "\n",
        "  def __len__(self):\n",
        "      return len(self.X)\n",
        "\n",
        "  def __getitem__(self, idx):\n",
        "    coords = self.X[idx]\n",
        "    flattened = coords.flatten()\n",
        "    return torch.FloatTensor(flattened), torch.LongTensor([self.y[idx]])[0]"
      ],
      "metadata": {
        "id": "hqHQcrO2495j"
      },
      "execution_count": 19,
      "outputs": []
    },
    {
      "cell_type": "code",
      "source": [
        "X_train, y_train = generate_dataset(25) # 학습용 25개 만들기\n",
        "X_val, y_val = generate_dataset(2) #테스트용 2개 만들기\n",
        "\n",
        "train_dataset = CustomDataset(X_train, y_train)\n",
        "val_dataset = CustomDataset(X_val, y_val)\n",
        "\n",
        "train_loader = DataLoader(train_dataset, batch_size=16, shuffle=True) # 학습용 데이터 불러오기\n",
        "val_loader = DataLoader(val_dataset, batch_size=16, shuffle=True) # 테스트용 데이터 불러오기"
      ],
      "metadata": {
        "id": "tDnsTn2U9quC"
      },
      "execution_count": 26,
      "outputs": []
    },
    {
      "cell_type": "code",
      "source": [
        "import torch.nn as nn\n",
        "\n",
        "class FunctionClassifier(nn.Module): # 학습하기 위한 모델 만들기\n",
        "  def __init__(self, input_size=200, num_classes=5): # x축 점 100개, y축 점 100개 크기로 초기화\n",
        "    super(FunctionClassifier, self).__init__()\n",
        "    self.network = nn.Sequential(\n",
        "        nn.Linear(200,512), # 200 -> 512 데이터 확장\n",
        "        nn.ReLU(),\n",
        "        nn.Dropout(0.4), # 정규화 진행(편향방지) -> 퍼셉트론 40% 끄기\n",
        "        nn.Linear(512, 256), # 데이터 최소화 (종류 분류를 위해)\n",
        "        nn.ReLU(),\n",
        "        nn.Dropout(0.4),\n",
        "        nn.Linear(256, 128),\n",
        "        nn.ReLU(),\n",
        "        nn.Dropout(0.3),\n",
        "        nn.Linear(128, 64),\n",
        "        nn.ReLU(),\n",
        "        nn.Dropout(0.2),\n",
        "        nn.Linear(64, 5) # 5가지 특징 추출\n",
        "    )\n",
        "\n",
        "  def forward(self, x):\n",
        "      return self.network(x)"
      ],
      "metadata": {
        "id": "Zs1Mqg5G-y5F"
      },
      "execution_count": 4,
      "outputs": []
    },
    {
      "cell_type": "code",
      "source": [
        "import torch\n",
        "import torch.nn as nn\n",
        "import torch.optim as optim\n",
        "\n",
        "device = torch.device('cuda' if torch.cuda.is_available() else 'cpu') # 사용 장치 정하기\n",
        "model = FunctionClassifier().to(device)\n",
        "criterion = nn.CrossEntropyLoss() # 손실 계산\n",
        "optimizer = optim.Adam(model.parameters(), lr=0.001) # 최적화 하기\n",
        "\n",
        "train_losses = [] # 학습중 손실\n",
        "val_accuracies = [] # 테스트 정확도\n",
        "\n",
        "num_epochs = 100 # 학습수\n",
        "print(\"학습 시작...\")\n",
        "\n",
        "for epoch in range(num_epochs):\n",
        "  model.train() # 학습 모드\n",
        "  train_loss = 0.0 # 초기화\n",
        "  for batch_X, batch_y in train_loader: # 학습 하기\n",
        "    batch_X = batch_X.view(batch_X.size(0), -1) #자동 사이즈 통일\n",
        "    batch_X = batch_X.to(device)\n",
        "    batch_y = batch_y.to(device)\n",
        "\n",
        "    optimizer.zero_grad() # 기울기 초기화\n",
        "    outputs = model(batch_X)\n",
        "    loss = criterion(outputs, batch_y)\n",
        "    loss.backward() # 역전파\n",
        "    optimizer.step() # 새 가중치로 수정\n",
        "    train_loss += loss.item() # 손실 합\n",
        "  avg_train_loss = train_loss / len(train_loader) # 손실 평균 구하기\n",
        "  train_losses.append(avg_train_loss)\n",
        "  if (epoch+1) % 10 == 0:\n",
        "    model.eval() # 평가 모드\n",
        "    val_correct = 0 # 초기화\n",
        "    val_total = 0\n",
        "\n",
        "    with torch.no_grad(): # 기울기 계산 안함\n",
        "      for batch_X, batch_y in val_loader: # 테스트 하기\n",
        "        batch_X.view(batch_X.size(0), -1) #자동 사이즈 통일\n",
        "        batch_X = batch_X.to(device)\n",
        "        batch_y = batch_y.to(device)\n",
        "        outputs = model(batch_X)\n",
        "        _, predicted = torch.max(outputs, 1) # 일치하는 함수 숫자 추출\n",
        "        val_total += batch_y.size(0) # 맞춘 샘플 수\n",
        "        val_correct += (predicted == batch_y).sum().item() # 정확도 구하기\n",
        "\n",
        "    val_accuracy = 100*val_correct / val_total #평가 결과 정확도\n",
        "    val_accuracies.append(val_accuracy)\n",
        "\n",
        "    print(f'Epoch: [{epoch+1}/{num_epochs}], Loss: {avg_train_loss:.4f}, Val Acc: {val_accuracy:.2f}%')\n",
        "\n",
        "print(\"학습 완료!\")"
      ],
      "metadata": {
        "id": "uesWtskYz0uf",
        "colab": {
          "base_uri": "https://localhost:8080/"
        },
        "outputId": "d6c3f4af-413d-45c4-da3f-e051b95a4dd3"
      },
      "execution_count": 32,
      "outputs": [
        {
          "output_type": "stream",
          "name": "stdout",
          "text": [
            "학습 시작...\n",
            "Epoch: [10/100], Loss: 0.0025, Val Acc: 100.00%\n",
            "Epoch: [20/100], Loss: 0.0009, Val Acc: 100.00%\n",
            "Epoch: [30/100], Loss: 0.0010, Val Acc: 100.00%\n",
            "Epoch: [40/100], Loss: 0.0000, Val Acc: 100.00%\n",
            "Epoch: [50/100], Loss: 0.0000, Val Acc: 100.00%\n",
            "Epoch: [60/100], Loss: 0.0001, Val Acc: 100.00%\n",
            "Epoch: [70/100], Loss: 0.0000, Val Acc: 100.00%\n",
            "Epoch: [80/100], Loss: 0.0000, Val Acc: 100.00%\n",
            "Epoch: [90/100], Loss: 0.0000, Val Acc: 100.00%\n",
            "Epoch: [100/100], Loss: 0.0000, Val Acc: 100.00%\n",
            "학습 완료!\n"
          ]
        }
      ]
    },
    {
      "cell_type": "code",
      "source": [
        "model.eval() # 평가 모드\n",
        "\n",
        "test_functions = [sin_dataset, cos_dataset, tan_dataset, log_dataset, exp_dataset]\n",
        "func_names = ['sin', 'cos', 'tan', 'log', 'exp']\n",
        "\n",
        "for true_idx, (func, name) in enumerate(zip(test_functions, func_names)): # 카운트도 해주기, 라벨링\n",
        "\n",
        "  # 노이즈 있는 데이터 생성\n",
        "  x, y = func(100)\n",
        "  noise = np.random.normal(0, 0.2, 100)\n",
        "  y_noisy = y + noise\n",
        "  coords = np.column_stack([x, y_noisy])\n",
        "\n",
        "  # 예측\n",
        "  test_input = torch.FloatTensor(coords.flatten()).unsqueeze(0).to(device)\n",
        "\n",
        "  with torch.no_grad(): # 기울기 계산 안함\n",
        "    output = model(test_input)\n",
        "    _, predicted = torch.max(output, 1)\n",
        "    predicted_idx = predicted.item()\n",
        "\n",
        "  predicted_name = func_names[predicted_idx]\n",
        "  result = \"✓\" if predicted_idx == true_idx else \"✗\" # 최종 평가 결과 출력\n",
        "\n",
        "  print(f\"{name} → {predicted_name} {result}\")"
      ],
      "metadata": {
        "id": "die9sE6h6A37",
        "colab": {
          "base_uri": "https://localhost:8080/"
        },
        "outputId": "7b3e3b76-7937-4afe-e5b2-bf9578668b1c"
      },
      "execution_count": 31,
      "outputs": [
        {
          "output_type": "stream",
          "name": "stdout",
          "text": [
            "sin → sin ✓\n",
            "cos → cos ✓\n",
            "tan → tan ✓\n",
            "log → log ✓\n",
            "exp → exp ✓\n"
          ]
        }
      ]
    }
  ]
}